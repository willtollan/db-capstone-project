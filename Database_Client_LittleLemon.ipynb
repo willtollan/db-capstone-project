{
 "cells": [
  {
   "cell_type": "code",
   "execution_count": 1,
   "id": "fa22f9e5-9d76-4ac6-b7c7-453a88736d0b",
   "metadata": {},
   "outputs": [],
   "source": [
    "# import mysql-connector-python API\n",
    "import mysql.connector as connector"
   ]
  },
  {
   "cell_type": "code",
   "execution_count": 2,
   "id": "cd2a5ef4-bebd-4eca-bccb-747692cd0299",
   "metadata": {},
   "outputs": [],
   "source": [
    "# import API error library\n",
    "from mysql.connector import Error"
   ]
  },
  {
   "cell_type": "code",
   "execution_count": 3,
   "id": "a285cdf6-d903-44d3-8831-8970bc0c3728",
   "metadata": {},
   "outputs": [],
   "source": [
    "# db client config\n",
    "connection = connector.connect(user = \"LittleLemon Admin\", password = \"LittleLemon Admin\", db = \"LittleLemonDB\")"
   ]
  },
  {
   "cell_type": "code",
   "execution_count": 4,
   "id": "76039c55-5865-4d86-bcdf-c1a5912d3153",
   "metadata": {},
   "outputs": [],
   "source": [
    "# instantiate cursor\n",
    "cursor = connection.cursor()"
   ]
  },
  {
   "cell_type": "code",
   "execution_count": 5,
   "id": "9f9a9bdd-c73f-4430-b2cd-4fdf34c6526b",
   "metadata": {},
   "outputs": [],
   "source": [
    "# execute SQL query\n",
    "cursor.execute(\"SHOW TABLES\")"
   ]
  },
  {
   "cell_type": "code",
   "execution_count": 6,
   "id": "6673ff59-046d-4c54-a43f-475f35880e41",
   "metadata": {},
   "outputs": [],
   "source": [
    "# retrieve results and assign them to 'results' variable\n",
    "results = cursor.fetchall()"
   ]
  },
  {
   "cell_type": "code",
   "execution_count": 7,
   "id": "da29cc14-d9a1-44ed-b96a-af431aea7c04",
   "metadata": {},
   "outputs": [
    {
     "name": "stdout",
     "output_type": "stream",
     "text": [
      "[('Bookings',), ('Customer',), ('Menu',), ('OrderDeliveryStatus',), ('Orders',), ('ordersview',), ('Staff',)]\n"
     ]
    }
   ],
   "source": [
    "print(results)"
   ]
  },
  {
   "cell_type": "code",
   "execution_count": 10,
   "id": "3f4866a4-e61d-419d-bf23-408036e11f45",
   "metadata": {},
   "outputs": [],
   "source": [
    "# return first 4 rows where TotalCost > 60\n",
    "query_with_join = \"\"\"\n",
    "SELECT Orders.TotalCost, Customer.FullName, Customer.Email, Customer.ContactNumber \n",
    "FROM Orders \n",
    "INNER JOIN Customer ON Orders.CustomerID = Customer.CustomerID \n",
    "WHERE Orders.TotalCost > 60\n",
    "LIMIT 4;\n",
    "\"\"\""
   ]
  },
  {
   "cell_type": "code",
   "execution_count": 11,
   "id": "cb4a369e-a560-4b2a-8a9b-9fe94f592c95",
   "metadata": {},
   "outputs": [],
   "source": [
    "# execute SQL query\n",
    "cursor.execute(query_with_join)"
   ]
  },
  {
   "cell_type": "code",
   "execution_count": 12,
   "id": "c42f59be-b56f-405d-9ee8-eb6030d2aeeb",
   "metadata": {},
   "outputs": [],
   "source": [
    "# retrieve results and assign them to 'results' variable\n",
    "results = cursor.fetchall()"
   ]
  },
  {
   "cell_type": "code",
   "execution_count": 13,
   "id": "08807db1-467a-4ebc-8ee7-6ade5629a0c6",
   "metadata": {},
   "outputs": [
    {
     "name": "stdout",
     "output_type": "stream",
     "text": [
      "('TotalCost', 'FullName', 'Email', 'ContactNumber')\n",
      "[(Decimal('125'), 'Laney Fadden', 'Laney.Fadden@gmail.com', '(206) 342-8631'), (Decimal('75'), 'Lia Bonar', 'Lia.Bonar@gmail.com', '(248) 762-0356'), (Decimal('235'), 'Giacopo Bramich', 'Giacopo.Bramich@gmail.com', '(717) 550-1675'), (Decimal('220'), 'Merrill Baudon', 'Merrill.Baudon@gmail.com', '(253) 644-2182')]\n",
      "[(Decimal('125'), 'Laney Fadden', 'Laney.Fadden@gmail.com', '(206) 342-8631'), (Decimal('75'), 'Lia Bonar', 'Lia.Bonar@gmail.com', '(248) 762-0356'), (Decimal('235'), 'Giacopo Bramich', 'Giacopo.Bramich@gmail.com', '(717) 550-1675'), (Decimal('220'), 'Merrill Baudon', 'Merrill.Baudon@gmail.com', '(253) 644-2182')]\n",
      "[(Decimal('125'), 'Laney Fadden', 'Laney.Fadden@gmail.com', '(206) 342-8631'), (Decimal('75'), 'Lia Bonar', 'Lia.Bonar@gmail.com', '(248) 762-0356'), (Decimal('235'), 'Giacopo Bramich', 'Giacopo.Bramich@gmail.com', '(717) 550-1675'), (Decimal('220'), 'Merrill Baudon', 'Merrill.Baudon@gmail.com', '(253) 644-2182')]\n",
      "[(Decimal('125'), 'Laney Fadden', 'Laney.Fadden@gmail.com', '(206) 342-8631'), (Decimal('75'), 'Lia Bonar', 'Lia.Bonar@gmail.com', '(248) 762-0356'), (Decimal('235'), 'Giacopo Bramich', 'Giacopo.Bramich@gmail.com', '(717) 550-1675'), (Decimal('220'), 'Merrill Baudon', 'Merrill.Baudon@gmail.com', '(253) 644-2182')]\n"
     ]
    }
   ],
   "source": [
    "print(cursor.column_names)\n",
    "\n",
    "# iterate through and print results\n",
    "for result in results:\n",
    "    print(results)"
   ]
  }
 ],
 "metadata": {
  "kernelspec": {
   "display_name": "Python 3 (ipykernel)",
   "language": "python",
   "name": "python3"
  },
  "language_info": {
   "codemirror_mode": {
    "name": "ipython",
    "version": 3
   },
   "file_extension": ".py",
   "mimetype": "text/x-python",
   "name": "python",
   "nbconvert_exporter": "python",
   "pygments_lexer": "ipython3",
   "version": "3.11.4"
  }
 },
 "nbformat": 4,
 "nbformat_minor": 5
}
